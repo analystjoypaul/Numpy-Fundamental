{
  "nbformat": 4,
  "nbformat_minor": 0,
  "metadata": {
    "colab": {
      "provenance": []
    },
    "kernelspec": {
      "name": "python3",
      "display_name": "Python 3"
    },
    "language_info": {
      "name": "python"
    }
  },
  "cells": [
    {
      "cell_type": "markdown",
      "source": [
        "**What is NumPy?**\n",
        "\n",
        "NumPy is the fundamental package for scientific computing in Python. It is a Python library that provides a multidimensional array object, various derived objects (such as masked arrays and matrices), and an assortment of routines for\n",
        "fast operations on arrays, including mathematical, logical, shape manipulation, sorting, selecting, I/O, discrete Fourier\n",
        "transforms, basic linear algebra, basic statistical operations, random simulation and much more"
      ],
      "metadata": {
        "id": "19YHBAu5FPFG"
      }
    },
    {
      "cell_type": "markdown",
      "source": [
        "**NumPy Array V/S Python Sequences**\n",
        "\n",
        "• NumPy arrays have a fixed size at creation, unlike Python lists (which can grow dynamically). Changing the size\n",
        "of an ndarray will create a new array and delete the original.\n",
        "\n",
        "• The elements in a NumPy array are all required to be of the same data type, and thus will be the same size in\n",
        "memory. The exception: one can have arrays of (Python, including NumPy) objects, thereby allowing for arrays\n",
        "of different sized elements.\n",
        "\n",
        "• NumPy arrays facilitate advanced mathematical and other types of operations on large numbers of data. Typically,\n",
        "such operations are executed more efficiently and with less code than is possible using Python’s built-in sequences.\n",
        "\n",
        "• A growing plethora of scientific and mathematical Python-based packages are using NumPy arrays; though these\n",
        "typically support Python-sequence input, they convert such input to NumPy arrays prior to processing, and they\n",
        "often output NumPy arrays. In other words, in order to efficiently use much (perhaps even most) of today’s scientific/mathematical Python-based software, just knowing how to use Python’s built-in sequence types is insufficient\n",
        "- one also needs to know how to use NumPy arrays.\n"
      ],
      "metadata": {
        "id": "C8qvMSusG5un"
      }
    },
    {
      "cell_type": "markdown",
      "source": [
        "**Creating a NumPy Array**"
      ],
      "metadata": {
        "id": "B3lK9oOoIZfU"
      }
    },
    {
      "cell_type": "code",
      "execution_count": null,
      "metadata": {
        "colab": {
          "base_uri": "https://localhost:8080/"
        },
        "id": "3cGJMqh4D7UT",
        "outputId": "c0d2b4af-63b1-4266-f05f-ae182e29fcba"
      },
      "outputs": [
        {
          "output_type": "stream",
          "name": "stdout",
          "text": [
            "[1 2 3]\n"
          ]
        }
      ],
      "source": [
        "# np.array\n",
        "import numpy as np\n",
        "a = np.array([1,2,3])\n",
        "print(a)"
      ]
    },
    {
      "cell_type": "code",
      "source": [
        "# 2D array\n",
        "b = np.array([[9.0,8.0,7.0],[6.0,5.0,4.0]])\n",
        "print(b)"
      ],
      "metadata": {
        "colab": {
          "base_uri": "https://localhost:8080/"
        },
        "id": "Lsgq9Bd3Ig1C",
        "outputId": "50f6ad90-8ac4-4c41-b5c1-c3a42cfb31a0"
      },
      "execution_count": null,
      "outputs": [
        {
          "output_type": "stream",
          "name": "stdout",
          "text": [
            "[[9. 8. 7.]\n",
            " [6. 5. 4.]]\n"
          ]
        }
      ]
    },
    {
      "cell_type": "code",
      "source": [
        "# 3d array\n",
        "c = np.array([[[1,2],[3,4]],[[5,6],[7,8]]])\n",
        "print(c)"
      ],
      "metadata": {
        "colab": {
          "base_uri": "https://localhost:8080/"
        },
        "id": "rIYvQxT2I9n2",
        "outputId": "ceed1a80-40d6-4604-c03f-dfe06dca044a"
      },
      "execution_count": null,
      "outputs": [
        {
          "output_type": "stream",
          "name": "stdout",
          "text": [
            "[[[1 2]\n",
            "  [3 4]]\n",
            "\n",
            " [[5 6]\n",
            "  [7 8]]]\n"
          ]
        }
      ]
    },
    {
      "cell_type": "code",
      "source": [
        "# dtype\n",
        "types = np.array([1,2,3], dtype='int16')\n",
        "types"
      ],
      "metadata": {
        "colab": {
          "base_uri": "https://localhost:8080/"
        },
        "id": "oqVz1WrLJGon",
        "outputId": "17dc0bff-5108-4c46-9ac0-17008213133c"
      },
      "execution_count": null,
      "outputs": [
        {
          "output_type": "execute_result",
          "data": {
            "text/plain": [
              "array([1, 2, 3], dtype=int16)"
            ]
          },
          "metadata": {},
          "execution_count": 4
        }
      ]
    },
    {
      "cell_type": "code",
      "source": [
        "types = np.array([1,2,0], dtype='bool')\n",
        "types"
      ],
      "metadata": {
        "colab": {
          "base_uri": "https://localhost:8080/"
        },
        "id": "iFW5F_WnJMrM",
        "outputId": "a45fc754-f215-46f9-a8cd-3a5a7009e114"
      },
      "execution_count": null,
      "outputs": [
        {
          "output_type": "execute_result",
          "data": {
            "text/plain": [
              "array([ True,  True, False])"
            ]
          },
          "metadata": {},
          "execution_count": 5
        }
      ]
    },
    {
      "cell_type": "code",
      "source": [
        "types = np.array([1,2,3], dtype='complex')\n",
        "types"
      ],
      "metadata": {
        "colab": {
          "base_uri": "https://localhost:8080/"
        },
        "id": "xIkwDJyzJkpL",
        "outputId": "e8f2be17-feb6-44c3-c4d6-f9b329983afe"
      },
      "execution_count": null,
      "outputs": [
        {
          "output_type": "execute_result",
          "data": {
            "text/plain": [
              "array([1.+0.j, 2.+0.j, 3.+0.j])"
            ]
          },
          "metadata": {},
          "execution_count": 6
        }
      ]
    },
    {
      "cell_type": "code",
      "source": [
        "types = np.array([1,2,3], dtype='float')\n",
        "types"
      ],
      "metadata": {
        "colab": {
          "base_uri": "https://localhost:8080/"
        },
        "id": "BSql6zh0JslX",
        "outputId": "4213eaa1-1221-43d8-d114-de0c16572193"
      },
      "execution_count": null,
      "outputs": [
        {
          "output_type": "execute_result",
          "data": {
            "text/plain": [
              "array([1., 2., 3.])"
            ]
          },
          "metadata": {},
          "execution_count": 7
        }
      ]
    },
    {
      "cell_type": "code",
      "source": [
        "# np.arange\n",
        "np.arange(1,11)\n"
      ],
      "metadata": {
        "colab": {
          "base_uri": "https://localhost:8080/"
        },
        "id": "C-vnggTCJ3l0",
        "outputId": "5539961b-0157-49a8-e215-e212c878c714"
      },
      "execution_count": null,
      "outputs": [
        {
          "output_type": "execute_result",
          "data": {
            "text/plain": [
              "array([ 1,  2,  3,  4,  5,  6,  7,  8,  9, 10])"
            ]
          },
          "metadata": {},
          "execution_count": 8
        }
      ]
    },
    {
      "cell_type": "code",
      "source": [
        "# reshape\n",
        "np.arange(1,11).reshape(2,5)"
      ],
      "metadata": {
        "colab": {
          "base_uri": "https://localhost:8080/"
        },
        "id": "P6Bkc8lHKDWn",
        "outputId": "0ca16454-c094-4ad8-bb8a-e9aca26250e8"
      },
      "execution_count": null,
      "outputs": [
        {
          "output_type": "execute_result",
          "data": {
            "text/plain": [
              "array([[ 1,  2,  3,  4,  5],\n",
              "       [ 6,  7,  8,  9, 10]])"
            ]
          },
          "metadata": {},
          "execution_count": 9
        }
      ]
    },
    {
      "cell_type": "code",
      "source": [
        "# np.ones and np.zeros"
      ],
      "metadata": {
        "id": "8seIe7QuKZ5I"
      },
      "execution_count": null,
      "outputs": []
    },
    {
      "cell_type": "code",
      "source": [
        "np.ones((4,2,2), dtype='int32')"
      ],
      "metadata": {
        "colab": {
          "base_uri": "https://localhost:8080/"
        },
        "id": "JPrIxpbRKj8N",
        "outputId": "3fcbdb12-3162-4b2b-9e9c-87f33c0cd427"
      },
      "execution_count": null,
      "outputs": [
        {
          "output_type": "execute_result",
          "data": {
            "text/plain": [
              "array([[[1, 1],\n",
              "        [1, 1]],\n",
              "\n",
              "       [[1, 1],\n",
              "        [1, 1]],\n",
              "\n",
              "       [[1, 1],\n",
              "        [1, 1]],\n",
              "\n",
              "       [[1, 1],\n",
              "        [1, 1]]], dtype=int32)"
            ]
          },
          "metadata": {},
          "execution_count": 11
        }
      ]
    },
    {
      "cell_type": "code",
      "source": [
        "np.zeros((1,10))"
      ],
      "metadata": {
        "colab": {
          "base_uri": "https://localhost:8080/"
        },
        "id": "7Gf3Jx-5KoEI",
        "outputId": "eb991c4e-2725-4e9c-9145-ff1a85b2f04d"
      },
      "execution_count": null,
      "outputs": [
        {
          "output_type": "execute_result",
          "data": {
            "text/plain": [
              "array([[0., 0., 0., 0., 0., 0., 0., 0., 0., 0.]])"
            ]
          },
          "metadata": {},
          "execution_count": 12
        }
      ]
    },
    {
      "cell_type": "code",
      "source": [
        "np.zeros(10)"
      ],
      "metadata": {
        "colab": {
          "base_uri": "https://localhost:8080/"
        },
        "id": "z2dN5v5lK8x6",
        "outputId": "b25c4c3a-058d-4428-c3bf-f35febe79198"
      },
      "execution_count": null,
      "outputs": [
        {
          "output_type": "execute_result",
          "data": {
            "text/plain": [
              "array([0., 0., 0., 0., 0., 0., 0., 0., 0., 0.])"
            ]
          },
          "metadata": {},
          "execution_count": 13
        }
      ]
    },
    {
      "cell_type": "markdown",
      "source": [
        "![image.png](data:image/png;base64,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)"
      ],
      "metadata": {
        "id": "RwWLMVPeMwUF"
      }
    },
    {
      "cell_type": "code",
      "source": [
        "# np.random\n",
        "np.random.randint(1,10,4)"
      ],
      "metadata": {
        "colab": {
          "base_uri": "https://localhost:8080/"
        },
        "id": "a0mKHZXuLEb9",
        "outputId": "92be8d39-fbd6-436f-e1bb-964aaf862cf2"
      },
      "execution_count": null,
      "outputs": [
        {
          "output_type": "execute_result",
          "data": {
            "text/plain": [
              "array([4, 8, 5, 7])"
            ]
          },
          "metadata": {},
          "execution_count": 14
        }
      ]
    },
    {
      "cell_type": "code",
      "source": [
        "np.random.random((5,2))"
      ],
      "metadata": {
        "colab": {
          "base_uri": "https://localhost:8080/"
        },
        "id": "bZ3_zQX1LOJV",
        "outputId": "58d0cc28-0d4f-4d75-bdf9-551a2e1c0198"
      },
      "execution_count": null,
      "outputs": [
        {
          "output_type": "execute_result",
          "data": {
            "text/plain": [
              "array([[0.70112362, 0.72956122],\n",
              "       [0.61013051, 0.47312623],\n",
              "       [0.8956482 , 0.99446551],\n",
              "       [0.16756781, 0.34773359],\n",
              "       [0.11813397, 0.79679661]])"
            ]
          },
          "metadata": {},
          "execution_count": 15
        }
      ]
    },
    {
      "cell_type": "code",
      "source": [
        "np.random.randn(4)"
      ],
      "metadata": {
        "colab": {
          "base_uri": "https://localhost:8080/"
        },
        "id": "MCwHI48sLh2S",
        "outputId": "be76b4d2-843b-46a3-9b4a-5437915ba95f"
      },
      "execution_count": null,
      "outputs": [
        {
          "output_type": "execute_result",
          "data": {
            "text/plain": [
              "array([ 0.11804515,  0.8513107 , -0.47173116, -0.89119268])"
            ]
          },
          "metadata": {},
          "execution_count": 16
        }
      ]
    },
    {
      "cell_type": "code",
      "source": [
        "# np.linspace\n",
        "np.linspace(1,10,3)"
      ],
      "metadata": {
        "colab": {
          "base_uri": "https://localhost:8080/"
        },
        "id": "cK7Y9V8kNKg9",
        "outputId": "f8399426-65fa-4cca-cb89-aa60513af65b"
      },
      "execution_count": null,
      "outputs": [
        {
          "output_type": "execute_result",
          "data": {
            "text/plain": [
              "array([ 1. ,  5.5, 10. ])"
            ]
          },
          "metadata": {},
          "execution_count": 17
        }
      ]
    },
    {
      "cell_type": "code",
      "source": [
        "# np.identity\n",
        "np.identity(4)"
      ],
      "metadata": {
        "colab": {
          "base_uri": "https://localhost:8080/"
        },
        "id": "CX1a3DzkNX6o",
        "outputId": "2279cb59-0ddd-4744-89d0-bb6d630dc319"
      },
      "execution_count": null,
      "outputs": [
        {
          "output_type": "execute_result",
          "data": {
            "text/plain": [
              "array([[1., 0., 0., 0.],\n",
              "       [0., 1., 0., 0.],\n",
              "       [0., 0., 1., 0.],\n",
              "       [0., 0., 0., 1.]])"
            ]
          },
          "metadata": {},
          "execution_count": 18
        }
      ]
    },
    {
      "cell_type": "code",
      "source": [
        "# ndim\n",
        "a = np.array([[1,2],[3,4]])\n",
        "a.ndim"
      ],
      "metadata": {
        "id": "v4P-ZbuAN3Io",
        "colab": {
          "base_uri": "https://localhost:8080/"
        },
        "outputId": "d4613aef-9a79-444b-dea7-816fbcdb8ea3"
      },
      "execution_count": null,
      "outputs": [
        {
          "output_type": "execute_result",
          "data": {
            "text/plain": [
              "2"
            ]
          },
          "metadata": {},
          "execution_count": 19
        }
      ]
    },
    {
      "cell_type": "code",
      "source": [
        "# shapw\n",
        "a.shape"
      ],
      "metadata": {
        "colab": {
          "base_uri": "https://localhost:8080/"
        },
        "id": "2xSyyw_cvFyw",
        "outputId": "849e8af6-aa63-466e-f7f2-bf3e9229f214"
      },
      "execution_count": null,
      "outputs": [
        {
          "output_type": "execute_result",
          "data": {
            "text/plain": [
              "(2, 2)"
            ]
          },
          "metadata": {},
          "execution_count": 20
        }
      ]
    },
    {
      "cell_type": "code",
      "source": [
        "# size\n",
        "a.size"
      ],
      "metadata": {
        "colab": {
          "base_uri": "https://localhost:8080/"
        },
        "id": "bUbMScG-vWZF",
        "outputId": "151a5bd1-532a-407a-b1bd-2b7a515f52e8"
      },
      "execution_count": null,
      "outputs": [
        {
          "output_type": "execute_result",
          "data": {
            "text/plain": [
              "4"
            ]
          },
          "metadata": {},
          "execution_count": 21
        }
      ]
    },
    {
      "cell_type": "code",
      "source": [
        "# itemsize\n",
        "a.itemsize    #each item how much size taken in memory"
      ],
      "metadata": {
        "colab": {
          "base_uri": "https://localhost:8080/"
        },
        "id": "ikFiMNU7vZiA",
        "outputId": "3976110a-3ddc-469c-f89d-d7a17692447a"
      },
      "execution_count": null,
      "outputs": [
        {
          "output_type": "execute_result",
          "data": {
            "text/plain": [
              "8"
            ]
          },
          "metadata": {},
          "execution_count": 22
        }
      ]
    },
    {
      "cell_type": "code",
      "source": [
        "a = a.astype(np.int32)"
      ],
      "metadata": {
        "id": "tLkQncc3vskj"
      },
      "execution_count": null,
      "outputs": []
    },
    {
      "cell_type": "code",
      "source": [
        "a.itemsize"
      ],
      "metadata": {
        "colab": {
          "base_uri": "https://localhost:8080/"
        },
        "id": "X3Ibz7b4v_Z_",
        "outputId": "c6f5f3a4-8734-4530-8b68-6b85e8399f04"
      },
      "execution_count": null,
      "outputs": [
        {
          "output_type": "execute_result",
          "data": {
            "text/plain": [
              "4"
            ]
          },
          "metadata": {},
          "execution_count": 24
        }
      ]
    },
    {
      "cell_type": "code",
      "source": [
        "# dtype\n",
        "a.dtype"
      ],
      "metadata": {
        "colab": {
          "base_uri": "https://localhost:8080/"
        },
        "id": "uNdKv0j5wBPB",
        "outputId": "c70aa871-bf1c-413c-b55f-77f960294665"
      },
      "execution_count": null,
      "outputs": [
        {
          "output_type": "execute_result",
          "data": {
            "text/plain": [
              "dtype('int32')"
            ]
          },
          "metadata": {},
          "execution_count": 25
        }
      ]
    },
    {
      "cell_type": "markdown",
      "source": [
        "Changing Data Type"
      ],
      "metadata": {
        "id": "PEY0SEKgwUaK"
      }
    },
    {
      "cell_type": "code",
      "source": [
        "array = np.arange(10)\n",
        "array"
      ],
      "metadata": {
        "colab": {
          "base_uri": "https://localhost:8080/"
        },
        "id": "H6_9vcK2wPUG",
        "outputId": "cf4bb663-7fa5-48b0-b7f1-57eed6339fe5"
      },
      "execution_count": null,
      "outputs": [
        {
          "output_type": "execute_result",
          "data": {
            "text/plain": [
              "array([0, 1, 2, 3, 4, 5, 6, 7, 8, 9])"
            ]
          },
          "metadata": {},
          "execution_count": 26
        }
      ]
    },
    {
      "cell_type": "code",
      "source": [
        "array.dtype"
      ],
      "metadata": {
        "colab": {
          "base_uri": "https://localhost:8080/"
        },
        "id": "nQdTsDGmwRuO",
        "outputId": "c7f70211-f15d-4a98-d532-476a4e9fd06a"
      },
      "execution_count": null,
      "outputs": [
        {
          "output_type": "execute_result",
          "data": {
            "text/plain": [
              "dtype('int64')"
            ]
          },
          "metadata": {},
          "execution_count": 27
        }
      ]
    },
    {
      "cell_type": "code",
      "source": [
        "array =  array.astype(complex)"
      ],
      "metadata": {
        "id": "n8gHJZOnwinG"
      },
      "execution_count": null,
      "outputs": []
    },
    {
      "cell_type": "code",
      "source": [
        "array"
      ],
      "metadata": {
        "colab": {
          "base_uri": "https://localhost:8080/"
        },
        "id": "oxKNByiQwpP_",
        "outputId": "f0ec1712-2fb5-41fe-c812-8265a2f15581"
      },
      "execution_count": null,
      "outputs": [
        {
          "output_type": "execute_result",
          "data": {
            "text/plain": [
              "array([0.+0.j, 1.+0.j, 2.+0.j, 3.+0.j, 4.+0.j, 5.+0.j, 6.+0.j, 7.+0.j,\n",
              "       8.+0.j, 9.+0.j])"
            ]
          },
          "metadata": {},
          "execution_count": 29
        }
      ]
    },
    {
      "cell_type": "code",
      "source": [
        "array.dtype"
      ],
      "metadata": {
        "colab": {
          "base_uri": "https://localhost:8080/"
        },
        "id": "vx_4JMwLwvLF",
        "outputId": "51993084-f942-44ba-f646-2251ff14b594"
      },
      "execution_count": null,
      "outputs": [
        {
          "output_type": "execute_result",
          "data": {
            "text/plain": [
              "dtype('complex128')"
            ]
          },
          "metadata": {},
          "execution_count": 30
        }
      ]
    },
    {
      "cell_type": "markdown",
      "source": [
        "Array Operation"
      ],
      "metadata": {
        "id": "KbVlBG0kw0b1"
      }
    },
    {
      "cell_type": "code",
      "source": [
        "a1 = np.arange(12).reshape(3,4)\n",
        "a2 = np.arange(12).reshape(3,4)"
      ],
      "metadata": {
        "id": "r-3qGJKPwx5o"
      },
      "execution_count": null,
      "outputs": []
    },
    {
      "cell_type": "code",
      "source": [
        "a1"
      ],
      "metadata": {
        "colab": {
          "base_uri": "https://localhost:8080/"
        },
        "id": "rlXJekH7xYOY",
        "outputId": "e4936e0e-e64b-4781-b144-ff7c07fc9458"
      },
      "execution_count": null,
      "outputs": [
        {
          "output_type": "execute_result",
          "data": {
            "text/plain": [
              "array([[ 0,  1,  2,  3],\n",
              "       [ 4,  5,  6,  7],\n",
              "       [ 8,  9, 10, 11]])"
            ]
          },
          "metadata": {},
          "execution_count": 32
        }
      ]
    },
    {
      "cell_type": "code",
      "source": [
        "a2"
      ],
      "metadata": {
        "colab": {
          "base_uri": "https://localhost:8080/"
        },
        "id": "HmlxNqsFxYnf",
        "outputId": "1219abca-c120-413c-f076-88bbe930d75b"
      },
      "execution_count": null,
      "outputs": [
        {
          "output_type": "execute_result",
          "data": {
            "text/plain": [
              "array([[ 0,  1,  2,  3],\n",
              "       [ 4,  5,  6,  7],\n",
              "       [ 8,  9, 10, 11]])"
            ]
          },
          "metadata": {},
          "execution_count": 33
        }
      ]
    },
    {
      "cell_type": "code",
      "source": [
        "# Sceller Operation\n",
        "\n",
        "# arithmatic\n",
        "a1*2"
      ],
      "metadata": {
        "colab": {
          "base_uri": "https://localhost:8080/"
        },
        "id": "XWJl_MWQxZIm",
        "outputId": "434162fc-26bb-4403-ada9-154ea7dc5f72"
      },
      "execution_count": null,
      "outputs": [
        {
          "output_type": "execute_result",
          "data": {
            "text/plain": [
              "array([[ 0,  2,  4,  6],\n",
              "       [ 8, 10, 12, 14],\n",
              "       [16, 18, 20, 22]])"
            ]
          },
          "metadata": {},
          "execution_count": 34
        }
      ]
    },
    {
      "cell_type": "code",
      "source": [
        "# Sceller Operation\n",
        "\n",
        "# Relation Operation\n",
        "a2"
      ],
      "metadata": {
        "colab": {
          "base_uri": "https://localhost:8080/"
        },
        "id": "NMooD7TcyZuo",
        "outputId": "a941a5bb-b529-43c9-90ca-bc5c30acb662"
      },
      "execution_count": null,
      "outputs": [
        {
          "output_type": "execute_result",
          "data": {
            "text/plain": [
              "array([[ 0,  1,  2,  3],\n",
              "       [ 4,  5,  6,  7],\n",
              "       [ 8,  9, 10, 11]])"
            ]
          },
          "metadata": {},
          "execution_count": 35
        }
      ]
    },
    {
      "cell_type": "code",
      "source": [
        "a2>5"
      ],
      "metadata": {
        "colab": {
          "base_uri": "https://localhost:8080/"
        },
        "id": "7E9wR2_dzB82",
        "outputId": "5f32d65b-bc71-4f43-9d56-6a9b4f5932a6"
      },
      "execution_count": null,
      "outputs": [
        {
          "output_type": "execute_result",
          "data": {
            "text/plain": [
              "array([[False, False, False, False],\n",
              "       [False, False,  True,  True],\n",
              "       [ True,  True,  True,  True]])"
            ]
          },
          "metadata": {},
          "execution_count": 36
        }
      ]
    },
    {
      "cell_type": "code",
      "source": [
        "a2[a2>5]"
      ],
      "metadata": {
        "colab": {
          "base_uri": "https://localhost:8080/"
        },
        "id": "uNU1NvU9zI7f",
        "outputId": "1d5ff4a9-3bba-4631-8c7d-679224bcfe59"
      },
      "execution_count": null,
      "outputs": [
        {
          "output_type": "execute_result",
          "data": {
            "text/plain": [
              "array([ 6,  7,  8,  9, 10, 11])"
            ]
          },
          "metadata": {},
          "execution_count": 37
        }
      ]
    },
    {
      "cell_type": "code",
      "source": [
        "# Vector Operation\n",
        "\n",
        "data = np.array([1,2])\n",
        "ones = np.ones(2)"
      ],
      "metadata": {
        "id": "hfdVSnrRzQ8v"
      },
      "execution_count": null,
      "outputs": []
    },
    {
      "cell_type": "markdown",
      "source": [
        "![image.png](data:image/png;base64,iVBORw0KGgoAAAANSUhEUgAAAqAAAABtCAIAAADxt0TRAAAgAElEQVR4Ae1dCXwURbrvhJxcIvoEVAwqIA+Bt0YJHrhP8hZxvZAAsk/2qYDPrCDqivieisu+cC1HApIQbkFBQQQSEm4Mt0AmCYEQjgRCzpnc5Ow5u3uf3dVdU9PTSWYyM8kc35DfUP31V19V/atm/vV9VTVNcfACBAABQAAQAAQAAa9DgPK6FkGDAAFAABAABAABQIADgodBAAgAAoAAIAAIeCECQPBe2KnQpNYR+KfSbduFSrlBBgh4OQK2f0AUNb0cHXdtHhC8u/YM1AsQAAQAAUAAEHAAASB4B8CDrIAAIAAIAAKAgLsiAATvrj0D9QIEAAFAABAABBxAAAjeAfAgKyAACAACgAAg4K4IAMG7a89AvQABQAAQAAQAAQcQAIJ3ADzICggAAoAAIAAIuCsCQPDu2jNQL5choHiMx3ahy+oFhgEB90XA9g+Ioqb7NsyrawYE79XdC40DBAABQAAQ8FUEgOB9teeh3YAAIAAIAAJejQAQvFd3LzQOEAAEAAFAwFcRAIL31Z6HdjsDgR1Xq1eqNM6wBDYAAUAAEHAyAkDwTgYUzPkUAuOT8h7ecKmVJm/JqRyy+XJhva4VHbgFCAACgIArEACCdwWqYNPLEdAZmV9L69WN+vFJ+ZjgG3TG8+rGk8X1Fc0GjuMYji2o1X51qpiKVf1SWHerVqs1MrycYXOr6eNF9blVzSzr5UBB8wABQKATEQCC70TwoejOQUDxGI/tQtrAjNyWS8Wqeidk/evmy4jga2hjz9UZd8Vn9k7IClmVsftGjd7E3JOQFRCnomJVwSszQlZlXChr5Dju7QO3uq7KuHdNVtDKjDeS8hjg+M4ZBVCqfQj8k+PYRo3h1EL9gVmm3N0cK8xWC08bz69mbh03HPrIdG2faJExGi//YDgw03D8b+yd20jI1tw0nPgbLzy9hG2qsK9s0G4vAkDw7UUO8vkqAkl5tVSsKubX0gxNY4/VGYjgaSOTVlhXpzXUaQ3DtuS8uOsay3HlTYb5Z0uoWNXZ0gZNo95g4sn8VEl9eaO+SW9Ycr60S5yq4A7tq0BCuz0JAVZbT69+lF52j+7b5+kYP8PpxRzHGY59QS/ool33lHbVw/QCf/ZOEcdx+iOf0YuC9bsmaRMeo1fcxzaUsSY9vaKvdv0T+oMf6rb8nrl5zJNa7sl1BYL35N6DuncGAkvOq/1iVQV3tBzHvfjzdUTwpQ363++4FrRS5S+47CO25qCqxWaoqVhVXi2vzHEcy7LzTpf0Tsjyj1P5xfLOfbqad+vhBQi4OQLGrI10DGW6lcaxrO7H1+nlfTijViD4ALY635R3gL97PYXVNfDsnjSNbVAzxefoGMpwLpatV9MxlH7PVLY6n2OMLGNy88Z6TfWA4L2mK6EhHYTAShVP8DdqeM/79zuuIYKf/UshFav64WpVYb3ud99dGbH1CqoNIvgbEsFnVzT7xaom7cu/UaNdms5zPxB8B3UbFOMYAoa0efTCYLaxknfc076iYyi2uYon+MVdOfoOU3iGJ/ire5mqPDqGomP86QUB/F+Mn+HwpxzHGg7PoRcG8+7++nCmQvx0OFYjyN02AkDwbWMEGoAAicDxonoqVvXBkdtJN6pDVokh+plHC6hY1eXK5kxNU8jKDEzw3+ZU/rYGv+R82cni+nqdKau8kYpVfXqiqJo2jPv5OhA8CSyk3RkB44XVdAzFqDM5jtPtmUr/oxenbyYI/iwieLapio7x1x/4kG0oZ+vL2XoN11wttItltXWmq3vpZb11Se+4c0u9qW5A8N7Um9CWjkDAxLBT9uUHxKmGbL48+serj226zHHclarmARuyu32TOWxLzvAtOU99n4uqUtFsiNx5tefqzGBhk52RYd9KvRm0MuNf1mT9cde14FUZKnVTR1QaygAEHEOArS+ll/bSJg7Tp75PLwzSp0aLa/CWHjwfwN85gV7Sw3BwtuHY/+q2vmDK388ZGnTfjzX+uoKfJfzjLv2hjx2rC+S2FQEgeFuRAj1AACPAclxFo15v4jcS45eJYSoaDUYbtsXfoQ0NOliGxMhBwjMQYMoy9bve1G15wXD8b5yB31ZiurJLn/Iep29mqvP0yW8zZRn8RhNdg+H4fN13/6H7fqz+4EdsfQln0huOztVtf1m3NVJ/+K8cXesZDfb8WgLBe34fQgvsRMD2E3GKmnaWBuqAgDcgoPhZsF3oDRB4YBuA4D2w06DKgAAgAAgAAoBAWwgAwbeFENwHBAABQAAQAAQ8EAEgeA/sNKiyowjYHllU1HS0eMgPCHggAoqfBduFHthiz68yELzn9yG0ABAABAABQAAQsEKAJ3jb52CeomnVTBAAAq0hUFlVdbtM4/5/5RXij3i74pPYGkBwzxsR0JTe1ty+pLl9qZx/vyy885ftEiIjsuyOCvmaFGQ3NNQj+F0x7B206ebjAjx4N+8gqF5HIKAuryjXceU6tlzL8u+yP7cRFqnLOwIOKMM3EKgszmU1J63/uBaE1nJrCas5SQpxmiPl5WKhLQnNVSo/yahP1NSgn8rxjV5xaiuB4J0KJxjzBASs5+w8wWsFgndXakdzDiB4TxhfHlPHyuJcC4qVeN2thIz6JBB8u4cUEHy7oYOM3oOA4MFbOe7Ip5e79dI8wMKtR0LOMgBACqVcok2kiYWo6LaFQPDeM+bcoCWVxVcsuLwtxxq742z5Sbac99Tl2QULgvCE6IWbJSc5DSE0Z29VqEEefI0boOWRVQCC98hug0o7FwEFgrfgb4n7HRFqleL/dgqB4J3b7z5uDRM8Ym5EzJi22xSiaDzm+NazY2UpIfG6FLrH2dHMAJcOIXpHRikQvCPoQV4PRUAepJfW4DlxJd4cqEcSK1ebd8QdEPLLAVbZbRACwXvogHPPaiOCNy94E1yLhSR/YyFOmH16KbyPbmF6JrNjIV6nx3fJXPguSgDBOzJ4gOAdQQ/yegkCZU5fg0e+vszjb0lo7cdbS4SVAiB4Lxlw7tEMa4KXES0mcpJ0zUIhzG6+RBzvbCEQvCODhSd4uTsj2PNooSOIQF4fRIAneOy1i6zMWWy7w1SNE+TavILQcj1eJGxBiJUxi+MEsokUlISY4F3x8fTBfvfxJlcWX5EYnQ+Yi+64eSVeLkRRdFs0BR3nZCcJ3hXD3kGbbj6EwIN38w6C6nUEAlKIXmmZnCRyPAnoJCEm+I4ABcrwdgRaOiYnd8ql8HtLAfmW9M1TAcGCObs0h7BQIIRmg3BMzrFBiDx4xUmMY4a9KrciPrYLvQoLL2iMdc/xBC8ek7NcGnczoUcRvDXMjocLvWD0uVET8DE5tBYuEPApRLpY4gwhf+qdNIiZHgnxXSmcIMYS0F0fOybn5E8NePBu9HmDqnQWAgq76HlnXSJ7HFRvQyiG5Yvq6IRvv/+PF1/adeAIb0QhOxJK9sXAQCtCcRu/RxF8Z3UmlGsrAngXvdljllxtzMH4FiZjUWI+5yb+ak15TvL8Oe+O/feRd/L2m0/EEQYthObs5u30xNE7s5AM0dvaMNCTEACCl5Bo5X8nT6qEkjzFZiuweNEtBYK3YGX7jsm9+PIr415+dci/Dk3YtNViad/aJrnQjuP/LQs9ieA9ZYS7op4e8tHABI/oXKDwE4jIMZ23IsSeN6c5WX0t5cH7+8z48/jQ0JCq3H3W2bGylDBTuKx07McjTd8ieGePRiB4D/ksQjVdiYC0Bk+cXhPJ2PKYnG3CSwWlGi0bOfZFgeCVbNpwIk6YGaCNfmZH35MI3pX9BbadgoD1LnrMtdaOu7VPjwgYaeqLf6m6mlJ9bX+PHt0RwWOexjZJC1iICyKtYSEn/tAN/FRtOzscCL6dwEE2b0LAFcfkJIKXvH+8L0/mxyN/XVGIfXqU0LJA8N406jq9LdYEj1kZUyxOkPQsCq1OxGGCx7la0uTlVtkVhb7lwTt7TPAE7+yoAF/HzrXpbJTAnpcj4IpjcjzBb5ZC9GLUXVhlx1yOQ/E4AcfkvHyguVfznH5MjiR4tOIuTgvMP1grPzsnOO6tCUmC71xaUSzdvXrUqjbgwVtBAgLfQ0AK0TvzmJyZ4DGjkx55u4Tgwfve2HRhi51+TI4keOS7k36/OU2ciFMUin6/4OWTBO9CLLzUNPLgPXFq0pEdooiP7cKOrCqU1TYC1j3HE7yzT8QRIXrzIjq/su5AQR5F8NYwOx7aa7tzQcN2BJx+TA4TvGynHlpfb0mI7+I5AWJ9pA/H5BwJiIMHb/vHATS9FgGFXfS8ty0Rs4W33YpQPBGXmnZq9qdzwwYMGPvSH2d/OreoXmveSy/abOVEnGRfdPdFm8iCRxG8144Wr2kY3kVv9piJU21tCM3n3MRjcuuWfjp7xsSgoMBZ0yas+cccMrtE7ead84on4hSF4ME7Mt6A4G1AzxWuiKfYtAEeL1BRIHgLUpc2ytkmPJWVE7d2U9w68a+kUS847krxf3L1HQfwWxZ6EsF7ygh3RT095COBCZ7wmNt5TI7VnDyw/R+b4j5Hf6nblspskm66wPdmsrfWRMro3bcI3tmjEQjeQz6LUE1XIiCtwSsdaeN9bsmrFgm+PWfnRI5HgQE4JufK3gTbNiJgvYsecy32v5HzjRkXy1EC6cuEpDKZnVS2LojMhQ3CMTkbu7IlNSD4lpABuQ8hQKzBS8468qdtc9kJ8payo4yy7ApCKQKvqIl9eqkynuTB+9Dw8dSmkgRPMi5mYj4hHWazEKIn00i3MDeT+qIQ6cg0bRPyNA+/Re/Y4AKCdww/yO0VCLjimJzFL9SKUXeBzjGX41A8Tth8TM4rUIdGdDICsmNyot8sbXGX/bIsumu7kNWYg/CsZLMdQt8K0Tt7RADBOxtRsOeBCEgheqVlcvwDNVb+NNr4ZvGOyZtUdp4QPHgPHFzuW2X5MTlEw2YyFnbPEULsxIuE3bKmOcZO6MizSxv6ZBMLnJdPgAfv2PDhCV5xXd8xs96Qu6LJMDE5/+CtO600pkFnatKbWlHwkVuq9PRp06bpdDrU3ubm5remTo2Kipo3bx6SmEymvLy83bt3p6SktIKJVqs9cvToypUr161dd/PmTay5bOnSqKioqIkT79wRu4Nl2dkfzj506BDWsT1hPeCdH6KXguoW9O+wEAje9l72XM3KysqhQ4eeOXOG4zjGZNqyZcu0adPefPPNxYsX4/F/5vTpxx9/vKK8wpFmksfkpDC7xdPknCS0eJqcZNMsRIyO6R8v2yNNHzsm50h/KuQFD14BFCQquKOjYlXxmeUtaZhYdui3lyfvy29JwUfkJpNpZETEBx98gNtbV1fXo0ePqVP/fPTIUST86aef/P39KYp66KGHsJp1Yt++fQEBAUOGDLn77ru7du167NgxpHPq1Mm//OUvFEWVl5u7Y+HChQMGDMCzCmtrtksED15aPjc737K9dUihFaG0oC5aQJqtCCVTWJ/39RWFYt2A4G3vU8/VnD179ojhw01G3nPQ6XQDBgyYMGHC1KlTAwMDIyPHoHaZGGb48OEffTTbkWbiXfQWTrP0aNc2hMI6OknGyOFGrGwRyZcMWgjN2S0i+cggqQkheke6GAhejh7Dcr8U1m26VJGhbhQJ/p9cWaN+5/Wa+KzyPTdqGg38B6+gTrsvr/a+xKyR23JT8++cLW3gOI42Mr8U1a/NrthwuSK/ViuatnYYWwqbWGmeO3fuxIkTGZmZ69atKyoq5DjOYDCkpqbk5uampKRs3LixtqbG3ADL7M108+HDhxPXrl2/fn1eXh5S02jUqakpJSUlP+3atWHDhupq/ikO169fS01N1Wg03275dvv27Tqttrm56dChQ4mJievXr88XPGmNRpOamlJaWorqcODAgaysLGTz+PE0iqIyMjJwTerq6nv06LFy5UosycnJSUpKGjt2bP/+/bHQOlEovDiOKyosDAoKevfdd7HOtm3f8wSv0WBJUVFRYGDgtm3bsKTdCQWCd15cXXTiyYV2PIewU+hJBG85GsWuEYWs6eoeffI0/eGPmYorKIRoytpqTF9nzNyoT5nOFJ0V44p0reHUQv3eqYaT/8c2V4maNw/rU9/XJ71jOLuUM+qUI5CtlW4xTJKTk2MWxOzevfvtt9/+8ccfOY4zmUxLly7dunVrXFzcO2+/nfZLmmXlLbKfPHnyvf/+7xkzZhw9Ks5lExISEhMT4+Pjp02bdu7XX5F2RUX5119//dbUqX//+9/Rh47l2H37kmfMmPHOO+8sX7Fcr9cjzbq6O7163bV48WJ0yTAM9tonT5oUHBys1xvQrcWLF/fo0aOxsRFdtuMdEzzyngVybf8xudazS8SPHXczr8tKJx16n9tFb/O4tXHYA8HLPxfrsiv8YlU9VmcO3HgJe/Av/Xz9kQ3Zz++42jM+c8zOawzLbrpU0Tfxon+sKnhlRr/Ei6/tvsFx3K7rNb3iM0dtzx28+XLoqoxLFc1y68L1jh07Pvxw9of8C71/WF5hdkzJLJGRkb169XrwwQcDAgIee+wxo9F4584d5Afffffdfn5+o0ePNpmU1wi+37atZ8+eERERDz88ICQkJCcnh+O4PXv2UBQ1aNCgbt26de3a9bvvvvstDDhv3jwk7NmzZ1BQ0JUrVzZv3nzXXXdFjBoVFhYWGhp69eo1tVodHByM3PQTx49TFLV27VpU1Y8//rhPnz56KT7PcZxE8HFkWziOi4qKap3gsX7+zfzAwMAvv/wSS0SCJzx4hmGHDRs2edIkrNPuhLQG74ITcYqn7PAxOfM0gnhwXMtCTyL4ljvDoFpHx/jrtkZqVw+kl/Zia27xruqWMfTibrrvx9LL/4WO7cexDMsYtBtH0bH361Pfp+Me0K7/HWcyMppsekEX/a5JhqNztZtHc03Kzxnbvn37U0+NfIp4nTp1SrFG0dHRAQEBo0aNevTRRwMDAwsLCw0GwwMPPNC9e/dnn32ub9++3bp1K69QjoSfOH4iMDBwxIgR4eHhgYGBBw8e5DjuiSeeCA0N/cMf/tCrV6+wsDCGYWiaHjF8eN++fafPmNHnvvsiIkYxDHP6zBl/f/8pU6bMmTPn6WeerpFm6ocPH6YoCsXnyQrr9fqhQ4c+8cQTWHjmzBmKog4fPowl9ibIXfQyWsXuO/bRcQgd3yKD7aSQlJPZSQuY1MmMpAKS+xzB29uFbekDwcsRCv/uStiG7Ea9aVWGBhP8rVptQZ02q7zpk7RCv1iVuoFfbDYxbNiG7Ff3is4xx3GVzcbiOu2lyqa0orqAONWCX0vk1oXrhISEVy1fJSXKmpGRkT179qypqZn7+VyKokpLyxDBh4eHGwyGzz77jKKo7OxsxVI0Gs3t2wVZWVkpKSn+/v4LFy7EBD9p0iSabm5ubtao1Zjg58+fbzKZKisrGhoa1GXq27cLMrOy9iYl+fv7L122jOO4iRMn9u3bR6vVzpz5QdeuobW1tajcMWMiIyIiyDrU1cs9eHQ3Kiqq9RA9UtNqtS+88ML9/fqVlZVhsxLBmz14NGN47LHHsE67E85fg0ckbaZqIcauIJQC+G1r8hsAvYHgWYZeM1S7MYJjTGx1Pr0wUP8Lv1GDJ/iVYRxjNJyYT8dQXFOlqeA4HUMZzsUx1fnG86voGMpUdMZ0NZkX/jKPqbnJsSzHsYqdfv78+YWWLxzEkulHR0cHBQWVlZXt3LmToqgjR44ggh88eLDRaNy/fz9FUVu2bJHlQpeTJk3q1avXnbq65ubm++677+WXX0YEP2jQIJPJ9OlfPw0MDKyqqkpO3kdR1KpVq65du7ZgQQxFUSqV6nshIvX13/5269ZNhmFYvi38KyEhwd/fv6ioCF2id4Zh3o9+v2vXrmfOnMbysrIyiqLi4+OxxN4ESfAk42Ki5RPSCTcLIRyTsxfrTtIHgpcD3zs+801hWf16NY0IXmdiXtx1PSBO1X11ZsiqDCpWdb2GD79bE/ymSxXdvskIWZXRMz6TilV9dqJYbl24rq+vLze/NOXl5UaTUVEzMjJy8ODBHMetiI2lKOpGXh4i+I8+/pjjuAMHD1IUlZSUpJg3Pj4+NDQ0JCSkR48eFEV99tlnPMHv5T345ORkMgvy4MnvlLi4uBDhhfJ+IXjSB4XikpOT7+/Xb8qUKdhCRMSoMWPEpUEkrKvn1+DJED2S2+LBGwyGKVOm3HvvvWTMn+M4ieAtQh1vvfXWAw88gGvS7kRRSenVIrX5rxiny64Vq6+iS1uEyIhMk7QsV8AFSaVYKxOSW4UW3/vtbm9nZjRo6WX36pOm8XUw6uhlvfV7/4wIXrsunJedXU7HUGy9xpS1hY6h6EXB9OKu9KJQelGIKXc3Z9Tpdr1JLw6lF3TRbfl3trlSsS35+flJwmvv3r0ooSEWd8gs0dHRPXv2bGhoSElJoSgqNTUVEfwrr7zCr8QVFFAUtWTJEjILTkdERAwbNgxdRoyKGD58OCL4Z5555rfvh6+++iogIECtVq/+5huKooKCgkJCQoKF1/79+xsaGl5//fXg4OCALl1eeOGF2lpxrW3Vqm+6dOkim/F/+eUXISEhsg2qarWaoijrTxmuXpuJwrxL6tyj6qvCH05cPepWwrLcI1VVyr3cZgNBAQhePgYe3ZA9dtd1juPOlDQggj9yu46KVX15ulhvYpZcUFOxqhsCwTMs78G/socPzvP7XVnu4Q2XBm26VNVsqGgy+LdM8NHR0ZTl6/p1vkTrV2Rk5JAhQ6wJ/r/+zH8nbt++jf9K2r8fZbxy5cql7EsMw/DfkkZj//79Bw0aWFlZWVJS4ufnJxK8EKJHsURc3Lx58/z8/NQa3psXltj19/frN2TIkKqqqoKCAj8/vy++4EPler0+LCxs0KCBFEUdOHAAZ3/99deHDRuGXRA+RG+zB19VVZmZmVlXV4esMQwz47337rnnHpVKhe2jhCLBjxs37sknn5RptuPS7MGTnjReIHe1EJ/EIwtSEnqDB8+YtAmPaTc/x7Ese6eQXhhkOPa/CgTfoDHlH6JjKOPFrWxzDf9Xr2ENNMfyw5ttrjJmbqIXdDGkr1Hs7vj4+O6WL9mYx7mio6PvuuuuxsZGGcEPHTrUZDIdPXqUoqg1a8RSUlNTExIS8LL3+PHj77333qamJq1Od//9948bNw4R/LOWBL9r1y6KorZv315dVVVVXVVaWkLTNPq8aDSahIQEPz+/jZs2oSrt3btXcPHNO1qWLl0aEhIim5RzHJeRmcHP7/fuxW2xN9HSMTnsrPNxcvuPyZHZOemYHI7Vm21Km+/EKD2hKUrgmJy9PWqlzxO84rq+laavCP7rwM3AONWK9LLIndcQwaeX8UwffeT2hbLGId9exgT/mw89clvufYkXV2Zodl+vYVnud1tzHlyXnaFp+iStqBUPvqi4OCMjMzMzM4P/x7+0WvGAmQxlguBXkB589+7dly5dOnTo0NDQUI1EzAMHDuzduzdN0+h0zZAhQx7s3//ChQto/3nbBK8Wo99Go3HgwIEDBgxIv3DhvffeoygKEfxvQ2X+/PloBwC54r5s2bKQkBC8FUggeLkHn5q6f/r06WFhYd26dZs+fTr+xkxMXIPcJtTwDRs2UBT11FNPTZvOvxISEjAg1gSv1+v79ev3sRDMwGq2JKwHvJng8fY3lJAxbmcLvYHgOc54bgUd46f/KUq7dgS9uCtTeU2R4DkjrV0zlF7Rx3DwQ/2+97TfPMJpq5mCY7ofXzecWWo4+DEd42+6uluxx00mkw6/tFqdVocmvtbKLRF8cHDwi+PGPfTQQ4FBQbekE5svv/wyRVHYvT5wYL+/v/9zo0ePGTPG399/9+49IsE/a+HB19fXP/LII3379p01a9a7774bFhZWV3cnOTn5tddeW7RoUXR0tJ+fX0rKPlS3ioqK0NDQb775Bl2WlZX5+/t369ZtqPAaMWJEQwO/n5fjuNWrVwcFBdUI+2SRxN53OCZnL2Iep2+/B2/97djSHMEzNQvrtM/9kBu2PnvxubLwbbk7r1WzLPc/J4sHrM/+t605f00rDN+WW1gn8vGJovpX99wYuT132sECjuNOFNc/8V1O/3XZc9IKn/nh6soMjfLsyWZkoqOjo6KihAD1tvDw8KKiIhSinzx58pNPPtm/f/8NGzbgMTd+/PgxY8ZoteLu/aNHjw4fPrxPnz4zZ86MGDkShfLS0tLCw8PPnj2Lc3Ecl5iY+OSTT1ZVVWHhoUOHHn/8cfSVNHLkyHiJaK9cuUJR1NzP52JNjuOKi4uDgoJ27NiJhdYh+s2bN4cTr7lzRQuLFi3y9/e/LGwA5Dhu86ZNhFY4mpQgs9YEf/r0KYqiLl68iMttd4LYZEcelmvznBtWbp8mPhFHZlcUKh2Ts3kUOTgInZ+dZYwZ6/U7xuv3TDUVn0O9Zjy/ynCaj4Qzt47pD85ktfW8p96g1h/7XPfDq/qfpxh+Xc6Z9Gx9qeHIXN3OKP1PE43piRyrtMNUEZkWBsePP/44Z84cnU6Xk5Mzc+bMnJwcHKKfN+/r1157jVwCW7NmzcyZM8m5bFLS3qiJE994442ff/4ZraIvWbJkxYoVHMelpKTMnj27rp6PThUXF//1k0/++NJLk9+cvHz5coPRcPt2wSeffPLqq69OmDBh3bp15PzjT3/6z+effx65+LW1tTOJ1+zZs9EMnuO40aNHv/XWWy00yyYx3kVPeszkdnfSt7ZwwaW1eWuhlN28SV7xGXG2C+XH5BQ710eENvWqhZL9BG+R3TsvWJZlpD0vuIX8NhjlDT1YhU+wfKzeBj2LTHZcIIL//PPPGZZtaf88NseyjIlR+gbEGi0nGJYh7bMsW1JS8vnnn3fp0uWa1YLCrFmz8FcS3kX/8MMPz5o1q+US+Dvjxr04ceLENpH96ssvBg8eLDsm9+bkyZMmTWozb+sVQHcFgsdsLSRI3x2ncQLHz8kEmbbWxAF/Mgxgp9A7PJBROGQAAArXSURBVHhbeqQTdRDBT5gwobPqkJ+f37t3b9keFFll0tPT77nnnvx8h36EAxM8CqoLbM0TM6JtJwoJU3BMTtaTrr0Egnctvk63jggee8A223d0iqvVagMCAvz8/ObO/cyaU+vr648cOaI3iCd0jUbjsWPHDh06lJ6e3noNd+/eXVjIn+9v/XXx4sVDhw4dPnwYHxdmGfbYsWOVlc7ZfUN48JIDLTK0ww+Oc+oxuWK1xR7D1kGDu+1DwGgwPBEePm3atBZWLx38KNlUqdraWrqZX2tr6dXc3IxP1rWk06ac3EWPnHWS2mUSvJqO3X1eWVo4J4V44z05V+Ck3fgWZi2zo9KJH67npxpyD77NVoECgQAQPAGGJyQZhikqKqqVfrG1w6rMsmxpWRne69th5XZMQc5fg0fzA9KPx/69hdD3jsl1TI9CKTYgQBI8drIRK2MaxmyNFPBd/pLgbHN2mRBdtkvI1wF+i96GfmxFBQi+FXDglq8gAE+T85WehnYSCMDT5AgwvDMJBO+d/QqtsgsBKUQPT5OzCzZQ9mwEWjomh+PtyIfG79iJJ8/OmZVRvF0WdScu5dnhaXKuHz48wSuuKbm+aCgBEOgcBKwHvPND9OROOpTG7xYhemlnn21C2GTXOSPGS0uFY3Je2rHmZtnvwVt/O7Y0R/ARTTOYSilXgKBUDsgcQUDy4KUddiIZk6fXJCYWn/YmrZ1baWp0bFr6xYUr4uYtWHzg1Dn+STMW5E3axMW1KRRLtyB4VwytDrPZjt5ysG7tKNHbswhr8PzTZWReOKdRFPJb3khN6x15N85u/z5hnrbwKPk4ONtPxClqyjfZOTgMPDq7/QPSfoK3vwzIAQi4OQICwWMKFxIkK+M0TpC0bSksadQPGfr4nC+//uL/Fj7Qv/+KxPUiwdt5Is78IHlkX8huQfBujilUz+0RcOIxueaCI1PeGPtAv/sCAwOqcveJ++HFE3fidEEmxHMFNG8Q7ponFlgoJ3i3R9WtKggE71bd4brKuGLi6rradrRlwoOXvGqRtu0+JqfRscUNOkTqKxLWPvX0M+ZHvGOb7X2aHByT69iR4eWfGnIXPaJba6ccSxRPxGFhXd6BdcvmFmXt7dGjOyJ4mUE4JtexQ1csDQi+U2CHQt0LAeevwQtcPm/B4tejJin44ng9XieF+kXul6II6NJKCB68e40bD68NSfDYY8YH4XCCvNW6sPrafkTwmN1l+rJLZLklITICHrwjowwI3hH0IK+XIGBxTI5nX8Fx5/1siXFFoWxBHWkqCjnVjdsPhYX9kn5RNMKztUDnJG1jIrdNCATvJQPOPZqBCd56yVwgXfnPzbYptCR4heysxm4hoz5ZU1PtHoB5Xi2A4D2vz6DGTkdACtFbU7XVejymfJKSrYRXSyuH/9vvNv7wE8/umMWxWnuFQPBO73pfNuj0Y3KWBC/8Ki0ck+vUEcYTvOJCU6fWCgoHBFyIgPWAd26I/mZl3ahnn10en6hpdRJgER6wTRMI3oXDwvdMO/2YHCZ4cj8dDte3JMQKOEGG7sGDd2Rg2u/BW387tjRH8BHN1uF3BQitlwh37UdA8uCVYvJ4mVz0v8kjbTiAbxaWNhl+Pyby7WkzzmRfOZN95UJuniXNmzXNm+8sjt7hOpCaYkEWBO+KodVhNu3vI2VHxPYKt6NEb8+Cd9EjZuXfBYcbM7Eob0GI998htcL0nb+mJnbr1vV0cvzt9J2kTUlTHp8X5G0I5Wvwtve492naPyDtJ3j7y4AcgICbIyAQPGZrq7A8dq9xAsfYyYSQvlle+/Rzzz89WvybOOVPapoRA/XW2e08O2dB8G6OKVTP7RHABI+30aHFeImPLZ781qbwo/cmPv/0CPQ3a/pE0iaRtrCJJgHEXTgm5+RBAwTvZEDd1ZwrZrPu2lb760V48JIDLZKx3cfkiC110mY90UGXFuP5kAAyiyVo/13bQjgmZ3/fOpLDyz81eJMd9rZJFsfsKwqJ1XTzLSWh7CE0ODsicnNeq4fRIU14mpwjQ1aWFwheBghc+iICzl2Dt2djHRyT88Xx5iZtJgkeu9H40BpOkLdsEZLTBZm+7BJTPlkEFiI78hC9m2DnIdUAgveQjoJquhIB5WNy2PO2WH23jOTLddBddMpOpql0TA5ZlgXqsVAs12wHQvSuHAU+ZxsTvAWnSo92dVCIaZ5PSDbbIYRNdo6MSyB4R9CDvF6CgBSiJ2PmZlq1/DF5SU4uqGMmbkUou4Uu7RQCwXvJgHOPZjj9mBzicpLF8U/dYd9dpmOeRlhF+5EmePCODBae4GULTbJLZN0NhY40G/L6MgLWg9n5IfqWvXBHpgtF6nLrylt/hFv5zPpyv0PbZQi0cEzuFLkSLxDwKVbjiPCkUnazEE0IJKYXC8JC5ME7OOwdzC7DzYMuwYP3oM6CqroKAcmDl3bYiR65wkE16WybtHbukCYujiwIC1GowKIg8OBdNQJ80i7eRY/YFL+Lm93IZ8eJj40hniYnSSRiNt8SshOH38ya7RGCB+/I2ASCdwQ9yOslCAgEL8XecbwdJ2SBdCS3VyjTR5d2CoHgvWTAuUczMMEjksbEjD14KcETs5SWEuU2C6WHz1pYELLLzZZbPHcO6QPBOzJYgOAdQQ/yegkCBMFLDrQF9bYslO+PEzTbFPLGJU2LaYRMiNx3sxAI3ksGnHs0A2+yk/nupFNuZmWrNXL+lpKQ3FKHs5NCzOvkiThFIac5CQTvyGABgncEPcjrJQg4fw3eVgddisBbzCekvX5WQiB4Lxlw7tEMkuCxE4+IFi+B40vM+m1qktOFdmTHBSE7QPCODBYgeEfQg7xegkBJmaawtsn8d4dIY7mDQmzHkURJmZcgDs1wAwTUBZebCo83FaYJfziRZhbeJoQ4jROFaU04fRsZsTTlDGHj7bTq6io3QMsjqwAE75HdBpV2LgJ6g77Z+kVbi5qbWxbK7wjXNgmFcuSaSkK9Xu/choM1X0ZAp9MqDHFbBiLK5gxNuQ3hWiY0moy+3E2OtJ0neNkRAtklsu6GQkeaDXl9GYFWBrPsFrq0XShDVZYR3e1coayGcAkI2IhAK+NWdgtd2i6UVUCWEd3tXKGshh50CR68B3UWVBUQAAQAAUAAELAVASB4W5ECPUAAEAAEAAFAwIMQAIL3oM6CqgICgAAgAAgAArYioEzwrljwsLVGLtXz2oa5FDUwbhMCXju4vLZhNnUrKLkUAa8dXO7RMGWCd2mPgnFAABAABAABQAAQcDUCQPCuRhjsAwKAACAACAACnYAAEHwngA5FAgKAACAACAACrkYACN7VCIN9QAAQAAQAAUCgExAAgu8E0KFIQAAQAAQAAUDA1QgAwbsaYbAPCAACgAAgAAh0AgLKBO8eO/xdAIfXNswFWIFJOxHw2sHltQ2zs4NB3QUIeO3gco+GKRO8C/oRTAICgAAgAAgAAoBAxyEABN9xWENJgAAgAAgAAoBAhyEABN9hUENBgAAgAAgAAoBAxyEABN9xWENJgAAgAAgAAoBAhyEABN9hUENBgAAgAAgAAoBAxyEABN9xWENJgAAgAAgAAoBAhyGgTPDuscO/w0CAggABJyAAnxongAgmfAwB+NS4tMOVCd6lRYJxQAAQAAQAAUAAEHA1AkDwrkYY7AMCgAAgAAgAAp2AABB8J4AORQICgAAgAAgAAq5G4P8B5hNYDc2pWNkAAAAASUVORK5CYII=)"
      ],
      "metadata": {
        "id": "3K0_DJNDzxUc"
      }
    },
    {
      "cell_type": "code",
      "source": [
        "data+ones"
      ],
      "metadata": {
        "colab": {
          "base_uri": "https://localhost:8080/"
        },
        "id": "Zx31PSKnzwxo",
        "outputId": "ba578adf-8dfd-42d9-9e67-63bd5a789e9c"
      },
      "execution_count": null,
      "outputs": [
        {
          "output_type": "execute_result",
          "data": {
            "text/plain": [
              "array([2., 3.])"
            ]
          },
          "metadata": {},
          "execution_count": 39
        }
      ]
    },
    {
      "cell_type": "markdown",
      "source": [
        "![image.png](data:image/png;base64,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)"
      ],
      "metadata": {
        "id": "g-fm4Zoaz1vR"
      }
    },
    {
      "cell_type": "markdown",
      "source": [
        "Array Function"
      ],
      "metadata": {
        "id": "LXE2lDMx0h4P"
      }
    },
    {
      "cell_type": "code",
      "source": [
        "# min/max/sum/prod\n",
        "arr = np.random.randint(1,100,12).reshape(3,4)\n"
      ],
      "metadata": {
        "id": "aAiQ4aRzz0S9"
      },
      "execution_count": null,
      "outputs": []
    },
    {
      "cell_type": "code",
      "source": [
        "arr"
      ],
      "metadata": {
        "id": "pEqCxJ7y0nHa",
        "colab": {
          "base_uri": "https://localhost:8080/"
        },
        "outputId": "35f89c50-ae21-423c-dd02-bd46977ac902"
      },
      "execution_count": null,
      "outputs": [
        {
          "output_type": "execute_result",
          "data": {
            "text/plain": [
              "array([[33, 12, 28, 10],\n",
              "       [71, 91, 67,  6],\n",
              "       [27, 50, 12, 26]])"
            ]
          },
          "metadata": {},
          "execution_count": 42
        }
      ]
    },
    {
      "cell_type": "code",
      "source": [
        "arr.min()"
      ],
      "metadata": {
        "colab": {
          "base_uri": "https://localhost:8080/"
        },
        "id": "pwUyFsKVBy-K",
        "outputId": "2ca7acad-228c-4f0f-c31a-9bb04812f91a"
      },
      "execution_count": null,
      "outputs": [
        {
          "output_type": "execute_result",
          "data": {
            "text/plain": [
              "np.int64(6)"
            ]
          },
          "metadata": {},
          "execution_count": 43
        }
      ]
    },
    {
      "cell_type": "code",
      "source": [
        "# 0 -------> column\n",
        "# 1 -------> row\n",
        "arr.min(axis = 0)"
      ],
      "metadata": {
        "colab": {
          "base_uri": "https://localhost:8080/"
        },
        "id": "wqXz0w3gB0vQ",
        "outputId": "21126186-2736-4ac4-b8ec-259da14a3289"
      },
      "execution_count": null,
      "outputs": [
        {
          "output_type": "execute_result",
          "data": {
            "text/plain": [
              "array([27, 12, 12,  6])"
            ]
          },
          "metadata": {},
          "execution_count": 44
        }
      ]
    },
    {
      "cell_type": "code",
      "source": [
        "arr.min(axis = 1)"
      ],
      "metadata": {
        "colab": {
          "base_uri": "https://localhost:8080/"
        },
        "id": "Va7l-84jB4H8",
        "outputId": "321710f0-aaca-44c4-8f6b-bfce6bfeec38"
      },
      "execution_count": null,
      "outputs": [
        {
          "output_type": "execute_result",
          "data": {
            "text/plain": [
              "array([10,  6, 12])"
            ]
          },
          "metadata": {},
          "execution_count": 45
        }
      ]
    },
    {
      "cell_type": "code",
      "source": [
        "# mean/median/std/var\n",
        "arr.mean()"
      ],
      "metadata": {
        "colab": {
          "base_uri": "https://localhost:8080/"
        },
        "id": "KcAHHuduB9Za",
        "outputId": "c7dbb937-57b5-44c3-bda4-d3ec83af67cd"
      },
      "execution_count": null,
      "outputs": [
        {
          "output_type": "execute_result",
          "data": {
            "text/plain": [
              "np.float64(36.083333333333336)"
            ]
          },
          "metadata": {},
          "execution_count": 46
        }
      ]
    },
    {
      "cell_type": "code",
      "source": [
        "np.mean(arr)"
      ],
      "metadata": {
        "colab": {
          "base_uri": "https://localhost:8080/"
        },
        "id": "4-A59sDXCkc3",
        "outputId": "8d054fcb-f900-49d5-f15d-eb8aa2fa6f2e"
      },
      "execution_count": null,
      "outputs": [
        {
          "output_type": "execute_result",
          "data": {
            "text/plain": [
              "np.float64(36.083333333333336)"
            ]
          },
          "metadata": {},
          "execution_count": 47
        }
      ]
    },
    {
      "cell_type": "code",
      "source": [
        "np.median(arr)"
      ],
      "metadata": {
        "colab": {
          "base_uri": "https://localhost:8080/"
        },
        "id": "Vg8tyMJPCnSw",
        "outputId": "cdc9b3f1-b155-4cd0-f33f-ee3f6d7c084c"
      },
      "execution_count": null,
      "outputs": [
        {
          "output_type": "execute_result",
          "data": {
            "text/plain": [
              "np.float64(27.5)"
            ]
          },
          "metadata": {},
          "execution_count": 49
        }
      ]
    },
    {
      "cell_type": "code",
      "source": [
        "arr.std()"
      ],
      "metadata": {
        "colab": {
          "base_uri": "https://localhost:8080/"
        },
        "id": "17ybZDHCCqKw",
        "outputId": "f944dbd0-9962-415f-d772-ecea3694074d"
      },
      "execution_count": null,
      "outputs": [
        {
          "output_type": "execute_result",
          "data": {
            "text/plain": [
              "np.float64(26.4400527399037)"
            ]
          },
          "metadata": {},
          "execution_count": 50
        }
      ]
    },
    {
      "cell_type": "code",
      "source": [
        "# dot product\n",
        "\n",
        "a = np.arange(12).reshape(3,4)\n",
        "b = np.arange(12).reshape(4,3)"
      ],
      "metadata": {
        "id": "hyYvY_2qCxkO"
      },
      "execution_count": null,
      "outputs": []
    },
    {
      "cell_type": "code",
      "source": [
        "np.dot(a,b)"
      ],
      "metadata": {
        "colab": {
          "base_uri": "https://localhost:8080/"
        },
        "id": "7oZGMfP6C7nV",
        "outputId": "7fbc204f-a5e5-48d3-cbc6-a0fc1ef975f7"
      },
      "execution_count": null,
      "outputs": [
        {
          "output_type": "execute_result",
          "data": {
            "text/plain": [
              "array([[ 42,  48,  54],\n",
              "       [114, 136, 158],\n",
              "       [186, 224, 262]])"
            ]
          },
          "metadata": {},
          "execution_count": 54
        }
      ]
    },
    {
      "cell_type": "code",
      "source": [
        "# log and Exponents\n",
        "np.log(a)"
      ],
      "metadata": {
        "colab": {
          "base_uri": "https://localhost:8080/"
        },
        "id": "PHSvRqlWC7-m",
        "outputId": "367283f0-c794-4ea5-f5d2-6041fedd7102"
      },
      "execution_count": null,
      "outputs": [
        {
          "output_type": "stream",
          "name": "stderr",
          "text": [
            "<ipython-input-55-4c105380a959>:2: RuntimeWarning: divide by zero encountered in log\n",
            "  np.log(a)\n"
          ]
        },
        {
          "output_type": "execute_result",
          "data": {
            "text/plain": [
              "array([[      -inf, 0.        , 0.69314718, 1.09861229],\n",
              "       [1.38629436, 1.60943791, 1.79175947, 1.94591015],\n",
              "       [2.07944154, 2.19722458, 2.30258509, 2.39789527]])"
            ]
          },
          "metadata": {},
          "execution_count": 55
        }
      ]
    },
    {
      "cell_type": "code",
      "source": [
        "np.exp(a)"
      ],
      "metadata": {
        "colab": {
          "base_uri": "https://localhost:8080/"
        },
        "id": "jPaUazqJDqxI",
        "outputId": "9772f7dc-139a-4192-dd8f-94a531890dcd"
      },
      "execution_count": null,
      "outputs": [
        {
          "output_type": "execute_result",
          "data": {
            "text/plain": [
              "array([[1.00000000e+00, 2.71828183e+00, 7.38905610e+00, 2.00855369e+01],\n",
              "       [5.45981500e+01, 1.48413159e+02, 4.03428793e+02, 1.09663316e+03],\n",
              "       [2.98095799e+03, 8.10308393e+03, 2.20264658e+04, 5.98741417e+04]])"
            ]
          },
          "metadata": {},
          "execution_count": 56
        }
      ]
    },
    {
      "cell_type": "code",
      "source": [
        "# round/floor/ceil"
      ],
      "metadata": {
        "id": "bHONafbEDuIr"
      },
      "execution_count": null,
      "outputs": []
    },
    {
      "cell_type": "code",
      "source": [
        "np.round(np.array([10.2,15.5,26.8]))"
      ],
      "metadata": {
        "colab": {
          "base_uri": "https://localhost:8080/"
        },
        "id": "GA9gFPPAD4gv",
        "outputId": "c00faf62-fb1a-46d0-bf12-e154ffe9c6b0"
      },
      "execution_count": null,
      "outputs": [
        {
          "output_type": "execute_result",
          "data": {
            "text/plain": [
              "array([10., 16., 27.])"
            ]
          },
          "metadata": {},
          "execution_count": 58
        }
      ]
    },
    {
      "cell_type": "code",
      "source": [
        "np.floor(np.array([10.2,15.5,26.8]))"
      ],
      "metadata": {
        "colab": {
          "base_uri": "https://localhost:8080/"
        },
        "id": "Ypa4LmVMEIEr",
        "outputId": "3b4b9112-42ef-4e3d-c04a-24b9b87cb019"
      },
      "execution_count": null,
      "outputs": [
        {
          "output_type": "execute_result",
          "data": {
            "text/plain": [
              "array([10., 15., 26.])"
            ]
          },
          "metadata": {},
          "execution_count": 60
        }
      ]
    },
    {
      "cell_type": "code",
      "source": [
        "np.ceil(np.array([10.2,15.5,26.8]))"
      ],
      "metadata": {
        "colab": {
          "base_uri": "https://localhost:8080/"
        },
        "id": "RyUR-oDdEQb7",
        "outputId": "09a72ce7-7e2c-49d7-de8f-6653cdbe87a0"
      },
      "execution_count": null,
      "outputs": [
        {
          "output_type": "execute_result",
          "data": {
            "text/plain": [
              "array([11., 16., 27.])"
            ]
          },
          "metadata": {},
          "execution_count": 61
        }
      ]
    },
    {
      "cell_type": "code",
      "source": [
        "#  indexing\n",
        "arr = np.random.randint(1,100,12).reshape(3,4)"
      ],
      "metadata": {
        "id": "5eO2_bkeET0-"
      },
      "execution_count": null,
      "outputs": []
    },
    {
      "cell_type": "code",
      "source": [
        "arr"
      ],
      "metadata": {
        "colab": {
          "base_uri": "https://localhost:8080/"
        },
        "id": "WlEji6CkHz-k",
        "outputId": "c8d7bf09-b91e-437d-f464-dcc02d056de2"
      },
      "execution_count": null,
      "outputs": [
        {
          "output_type": "execute_result",
          "data": {
            "text/plain": [
              "array([[58, 52, 26, 50],\n",
              "       [38, 64, 63, 53],\n",
              "       [98, 52, 85, 68]])"
            ]
          },
          "metadata": {},
          "execution_count": 63
        }
      ]
    },
    {
      "cell_type": "code",
      "source": [
        "arr[0,0]"
      ],
      "metadata": {
        "colab": {
          "base_uri": "https://localhost:8080/"
        },
        "id": "zyB0MiWLH0r6",
        "outputId": "96f993d2-5161-4251-9956-6cbd027ee17a"
      },
      "execution_count": null,
      "outputs": [
        {
          "output_type": "execute_result",
          "data": {
            "text/plain": [
              "np.int64(58)"
            ]
          },
          "metadata": {},
          "execution_count": 68
        }
      ]
    },
    {
      "cell_type": "code",
      "source": [
        "#  indexing\n",
        "arr = np.random.randint(1,100,12).reshape(2,3,2)"
      ],
      "metadata": {
        "id": "kI1Qb9emH3FO"
      },
      "execution_count": null,
      "outputs": []
    },
    {
      "cell_type": "code",
      "source": [
        "arr"
      ],
      "metadata": {
        "colab": {
          "base_uri": "https://localhost:8080/"
        },
        "id": "5uHiUdSRIa4L",
        "outputId": "00d582a0-d532-4f24-81f3-023e725384ca"
      },
      "execution_count": null,
      "outputs": [
        {
          "output_type": "execute_result",
          "data": {
            "text/plain": [
              "array([[[34, 71],\n",
              "        [80, 33],\n",
              "        [92, 74]],\n",
              "\n",
              "       [[64, 50],\n",
              "        [66, 58],\n",
              "        [47, 95]]])"
            ]
          },
          "metadata": {},
          "execution_count": 70
        }
      ]
    },
    {
      "cell_type": "code",
      "source": [
        "arr[1,2,1]"
      ],
      "metadata": {
        "colab": {
          "base_uri": "https://localhost:8080/"
        },
        "id": "REFqQn6KIbir",
        "outputId": "53105512-0daf-4fdd-b9dd-c33794796f0f"
      },
      "execution_count": null,
      "outputs": [
        {
          "output_type": "execute_result",
          "data": {
            "text/plain": [
              "np.int64(95)"
            ]
          },
          "metadata": {},
          "execution_count": 72
        }
      ]
    },
    {
      "cell_type": "code",
      "source": [
        "# slicing\n",
        "arr = np.random.randint(1,100,12).reshape(3,4)"
      ],
      "metadata": {
        "id": "rXtugr8iIjVR"
      },
      "execution_count": null,
      "outputs": []
    },
    {
      "cell_type": "code",
      "source": [
        "arr"
      ],
      "metadata": {
        "colab": {
          "base_uri": "https://localhost:8080/"
        },
        "id": "ti6Ni1QkIpsa",
        "outputId": "50ffe2e1-7ebe-4f48-b830-d1b08e694030"
      },
      "execution_count": null,
      "outputs": [
        {
          "output_type": "execute_result",
          "data": {
            "text/plain": [
              "array([[76, 27, 57, 75],\n",
              "       [33, 82, 15, 89],\n",
              "       [75, 32, 65, 62]])"
            ]
          },
          "metadata": {},
          "execution_count": 74
        }
      ]
    },
    {
      "cell_type": "code",
      "source": [
        "arr[0:2,1:3]"
      ],
      "metadata": {
        "colab": {
          "base_uri": "https://localhost:8080/"
        },
        "id": "W07CAHXcIuN7",
        "outputId": "928745a7-e546-432c-c121-406bdfb1746e"
      },
      "execution_count": null,
      "outputs": [
        {
          "output_type": "execute_result",
          "data": {
            "text/plain": [
              "array([[27, 57],\n",
              "       [82, 15]])"
            ]
          },
          "metadata": {},
          "execution_count": 75
        }
      ]
    },
    {
      "cell_type": "code",
      "source": [
        " arr[0:2,1:]"
      ],
      "metadata": {
        "colab": {
          "base_uri": "https://localhost:8080/"
        },
        "id": "kUpm-WbiI7eq",
        "outputId": "84b8e080-c286-4a27-825d-55740be4699d"
      },
      "execution_count": null,
      "outputs": [
        {
          "output_type": "execute_result",
          "data": {
            "text/plain": [
              "array([[27, 57, 75],\n",
              "       [82, 15, 89]])"
            ]
          },
          "metadata": {},
          "execution_count": 76
        }
      ]
    },
    {
      "cell_type": "code",
      "source": [
        "arr1 = np.arange(27).reshape(3,3,3)"
      ],
      "metadata": {
        "id": "n8HUaEGTKFQQ"
      },
      "execution_count": null,
      "outputs": []
    },
    {
      "cell_type": "code",
      "source": [
        "arr1"
      ],
      "metadata": {
        "colab": {
          "base_uri": "https://localhost:8080/"
        },
        "id": "S2is0oDBKVF8",
        "outputId": "fd8583eb-2b56-42c8-fec2-44c57bcfcd69"
      },
      "execution_count": null,
      "outputs": [
        {
          "output_type": "execute_result",
          "data": {
            "text/plain": [
              "array([[[ 0,  1,  2],\n",
              "        [ 3,  4,  5],\n",
              "        [ 6,  7,  8]],\n",
              "\n",
              "       [[ 9, 10, 11],\n",
              "        [12, 13, 14],\n",
              "        [15, 16, 17]],\n",
              "\n",
              "       [[18, 19, 20],\n",
              "        [21, 22, 23],\n",
              "        [24, 25, 26]]])"
            ]
          },
          "metadata": {},
          "execution_count": 79
        }
      ]
    },
    {
      "cell_type": "code",
      "source": [
        "arr1[2:,1:,1:]"
      ],
      "metadata": {
        "colab": {
          "base_uri": "https://localhost:8080/"
        },
        "id": "YQv8XO0JKY8Z",
        "outputId": "6ff6bed6-7bd6-490d-c68c-1a9a203f6946"
      },
      "execution_count": null,
      "outputs": [
        {
          "output_type": "execute_result",
          "data": {
            "text/plain": [
              "array([[[22, 23],\n",
              "        [25, 26]]])"
            ]
          },
          "metadata": {},
          "execution_count": 82
        }
      ]
    },
    {
      "cell_type": "code",
      "source": [
        "for i in a.ravel():\n",
        "  print(i)"
      ],
      "metadata": {
        "colab": {
          "base_uri": "https://localhost:8080/"
        },
        "id": "HS8wLOyPKeRS",
        "outputId": "9d3646e4-5814-4846-f58f-60b40dc8d565"
      },
      "execution_count": null,
      "outputs": [
        {
          "output_type": "stream",
          "name": "stdout",
          "text": [
            "0\n",
            "1\n",
            "2\n",
            "3\n",
            "4\n",
            "5\n",
            "6\n",
            "7\n",
            "8\n",
            "9\n",
            "10\n",
            "11\n"
          ]
        }
      ]
    },
    {
      "cell_type": "markdown",
      "source": [
        "Reshaping"
      ],
      "metadata": {
        "id": "YOA_cezVLcjB"
      }
    },
    {
      "cell_type": "code",
      "source": [
        "# Transpose\n",
        "\n",
        "a\n"
      ],
      "metadata": {
        "colab": {
          "base_uri": "https://localhost:8080/"
        },
        "id": "P6obwx0gLNO7",
        "outputId": "953ad0c2-eec4-42e4-da95-e84e72afac7a"
      },
      "execution_count": null,
      "outputs": [
        {
          "output_type": "execute_result",
          "data": {
            "text/plain": [
              "array([[ 0,  1,  2,  3],\n",
              "       [ 4,  5,  6,  7],\n",
              "       [ 8,  9, 10, 11]])"
            ]
          },
          "metadata": {},
          "execution_count": 89
        }
      ]
    },
    {
      "cell_type": "code",
      "source": [
        "np.transpose(a)"
      ],
      "metadata": {
        "colab": {
          "base_uri": "https://localhost:8080/"
        },
        "id": "q6dsNIiKLg9_",
        "outputId": "cee6b86b-0216-4a9a-ee35-d0a37f4cde9c"
      },
      "execution_count": null,
      "outputs": [
        {
          "output_type": "execute_result",
          "data": {
            "text/plain": [
              "array([[ 0,  4,  8],\n",
              "       [ 1,  5,  9],\n",
              "       [ 2,  6, 10],\n",
              "       [ 3,  7, 11]])"
            ]
          },
          "metadata": {},
          "execution_count": 90
        }
      ]
    },
    {
      "cell_type": "code",
      "source": [
        "# ravel\n",
        "np.ravel(a)"
      ],
      "metadata": {
        "colab": {
          "base_uri": "https://localhost:8080/"
        },
        "id": "oJXGMETELt0-",
        "outputId": "bce5c9ef-78e0-4ffb-bbcf-5b8b249ec711"
      },
      "execution_count": null,
      "outputs": [
        {
          "output_type": "execute_result",
          "data": {
            "text/plain": [
              "array([ 0,  1,  2,  3,  4,  5,  6,  7,  8,  9, 10, 11])"
            ]
          },
          "metadata": {},
          "execution_count": 91
        }
      ]
    },
    {
      "cell_type": "markdown",
      "source": [
        "Stacking"
      ],
      "metadata": {
        "id": "_hPELsWMNFRU"
      }
    },
    {
      "cell_type": "code",
      "source": [
        "# horizontal\n",
        "a = np.arange(12).reshape(3,4)\n",
        "b = np.arange(12,24).reshape(3,4)\n",
        "np.hstack((a,b))"
      ],
      "metadata": {
        "colab": {
          "base_uri": "https://localhost:8080/"
        },
        "id": "zpCDoW0MLw5p",
        "outputId": "4d5345b3-5b56-4aee-ea32-745e34545d60"
      },
      "execution_count": null,
      "outputs": [
        {
          "output_type": "execute_result",
          "data": {
            "text/plain": [
              "array([[ 0,  1,  2,  3, 12, 13, 14, 15],\n",
              "       [ 4,  5,  6,  7, 16, 17, 18, 19],\n",
              "       [ 8,  9, 10, 11, 20, 21, 22, 23]])"
            ]
          },
          "metadata": {},
          "execution_count": 95
        }
      ]
    },
    {
      "cell_type": "code",
      "source": [
        "np.vstack((a,b))"
      ],
      "metadata": {
        "colab": {
          "base_uri": "https://localhost:8080/"
        },
        "id": "X_HZ3LjcNNye",
        "outputId": "1e758a79-59e7-47d3-f10b-444b8e44cc25"
      },
      "execution_count": null,
      "outputs": [
        {
          "output_type": "execute_result",
          "data": {
            "text/plain": [
              "array([[ 0,  1,  2,  3],\n",
              "       [ 4,  5,  6,  7],\n",
              "       [ 8,  9, 10, 11],\n",
              "       [12, 13, 14, 15],\n",
              "       [16, 17, 18, 19],\n",
              "       [20, 21, 22, 23]])"
            ]
          },
          "metadata": {},
          "execution_count": 96
        }
      ]
    },
    {
      "cell_type": "markdown",
      "source": [
        "Spliting\n"
      ],
      "metadata": {
        "id": "Y3_h8eTiNtuZ"
      }
    },
    {
      "cell_type": "code",
      "source": [
        "a"
      ],
      "metadata": {
        "colab": {
          "base_uri": "https://localhost:8080/"
        },
        "id": "n-r3jJEEN8nQ",
        "outputId": "21d22c2b-716e-402e-d0a6-0b1154a22ac0"
      },
      "execution_count": null,
      "outputs": [
        {
          "output_type": "execute_result",
          "data": {
            "text/plain": [
              "array([[ 0,  1,  2,  3],\n",
              "       [ 4,  5,  6,  7],\n",
              "       [ 8,  9, 10, 11]])"
            ]
          },
          "metadata": {},
          "execution_count": 99
        }
      ]
    },
    {
      "cell_type": "code",
      "source": [
        "# Horizontal spliting\n",
        "np.hsplit(a,2)"
      ],
      "metadata": {
        "colab": {
          "base_uri": "https://localhost:8080/"
        },
        "id": "yaYkw0TBNeCH",
        "outputId": "4bd2cb9a-80ac-4482-a10b-0ef5bb8a4e6f"
      },
      "execution_count": null,
      "outputs": [
        {
          "output_type": "execute_result",
          "data": {
            "text/plain": [
              "[array([[0, 1],\n",
              "        [4, 5],\n",
              "        [8, 9]]),\n",
              " array([[ 2,  3],\n",
              "        [ 6,  7],\n",
              "        [10, 11]])]"
            ]
          },
          "metadata": {},
          "execution_count": 100
        }
      ]
    },
    {
      "cell_type": "code",
      "source": [
        "# Vertical Spliting\n",
        "np.vsplit(a,3)"
      ],
      "metadata": {
        "colab": {
          "base_uri": "https://localhost:8080/"
        },
        "id": "39erOufNN0wH",
        "outputId": "1b2ba4a0-a481-474f-ef35-a9b4b9de686e"
      },
      "execution_count": null,
      "outputs": [
        {
          "output_type": "execute_result",
          "data": {
            "text/plain": [
              "[array([[0, 1, 2, 3]]), array([[4, 5, 6, 7]]), array([[ 8,  9, 10, 11]])]"
            ]
          },
          "metadata": {},
          "execution_count": 102
        }
      ]
    },
    {
      "cell_type": "markdown",
      "source": [
        "How to measure the time that the perticular operation taken."
      ],
      "metadata": {
        "id": "LEUrkorHSB3u"
      }
    },
    {
      "cell_type": "code",
      "source": [
        "import time"
      ],
      "metadata": {
        "id": "wCTV4VciOK2w"
      },
      "execution_count": null,
      "outputs": []
    },
    {
      "cell_type": "code",
      "source": [
        "start = time.time()\n",
        "a = np.arange(12).reshape(3,4)\n",
        "print(f\"\\n time operation: { time.time()-start}\")"
      ],
      "metadata": {
        "colab": {
          "base_uri": "https://localhost:8080/"
        },
        "id": "izWhzrtuRNDc",
        "outputId": "44bf3b81-3267-4476-913b-490ca83f36d0"
      },
      "execution_count": null,
      "outputs": [
        {
          "output_type": "stream",
          "name": "stdout",
          "text": [
            "\n",
            " time operation: 0.0002593994140625\n"
          ]
        }
      ]
    },
    {
      "cell_type": "code",
      "source": [],
      "metadata": {
        "colab": {
          "base_uri": "https://localhost:8080/"
        },
        "id": "YySIyFjnRcb2",
        "outputId": "19c9a952-94f8-42eb-87ee-19a4f00fc489"
      },
      "execution_count": null,
      "outputs": [
        {
          "output_type": "execute_result",
          "data": {
            "text/plain": [
              "[1, 2, 3, 4, 5, 1, 2, 3, 4, 5]"
            ]
          },
          "metadata": {},
          "execution_count": 110
        }
      ]
    },
    {
      "cell_type": "code",
      "source": [],
      "metadata": {
        "id": "149gc8SIRv8a"
      },
      "execution_count": null,
      "outputs": []
    }
  ]
}